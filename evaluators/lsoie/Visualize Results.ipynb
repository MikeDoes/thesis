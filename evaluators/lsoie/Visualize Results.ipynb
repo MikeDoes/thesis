{
 "cells": [
  {
   "cell_type": "code",
   "execution_count": 1,
   "metadata": {},
   "outputs": [],
   "source": [
    "import os\n",
    "import ntpath\n",
    "import numpy as np\n",
    "from glob import glob\n",
    "from docopt import docopt\n",
    "import matplotlib\n",
    "import matplotlib.pyplot as plt\n",
    "import pandas as pd\n",
    "%matplotlib inline"
   ]
  },
  {
   "cell_type": "code",
   "execution_count": 2,
   "metadata": {},
   "outputs": [],
   "source": [
    "os.chdir('new_eval')"
   ]
  },
  {
   "cell_type": "code",
   "execution_count": 3,
   "metadata": {},
   "outputs": [],
   "source": [
    "files = glob(os.path.join('*.dat.csv'))"
   ]
  },
  {
   "cell_type": "code",
   "execution_count": 4,
   "metadata": {},
   "outputs": [
    {
     "data": {
      "text/plain": [
       "['crf_model_conf.dat.csv',\n",
       " 'qdist_new_conf.dat.csv',\n",
       " 'rnnoie_new_conf.dat.csv',\n",
       " 'srl_bert_no_science_new_conf.dat.csv',\n",
       " 'srl_bert_oie2016_new_conf.dat.csv']"
      ]
     },
     "execution_count": 4,
     "metadata": {},
     "output_type": "execute_result"
    }
   ],
   "source": [
    "files"
   ]
  },
  {
   "cell_type": "code",
   "execution_count": 5,
   "metadata": {},
   "outputs": [],
   "source": [
    "def get_pr(path):\n",
    "    ''' get PR curve from file '''\n",
    "    with open(path) as fin:\n",
    "        # remove header line\n",
    "        fin.readline()\n",
    "        [p, r] = list(zip(*[[float(x) for x in line.strip().split('\\t')] for line in fin]))\n",
    "        return p, r"
   ]
  },
  {
   "cell_type": "code",
   "execution_count": 6,
   "metadata": {},
   "outputs": [],
   "source": [
    "df = pd.read_csv('qdist_new_conf.dat.csv')\n",
    "p = list(df['Precision'])\n",
    "r = list(df['Recall'])\n",
    "t = list(df['Threshold'])"
   ]
  },
  {
   "cell_type": "code",
   "execution_count": 7,
   "metadata": {},
   "outputs": [
    {
     "name": "stderr",
     "output_type": "stream",
     "text": [
      "/Users/jacobsolawetz/anaconda2/envs/py36/lib/python3.6/site-packages/ipykernel_launcher.py:2: FutureWarning: from_items is deprecated. Please use DataFrame.from_dict(dict(items), ...) instead. DataFrame.from_dict(OrderedDict(items)) may be used to preserve the key order.\n",
      "  \n",
      "/Users/jacobsolawetz/anaconda2/envs/py36/lib/python3.6/site-packages/ipykernel_launcher.py:13: FutureWarning: from_items is deprecated. Please use DataFrame.from_dict(dict(items), ...) instead. DataFrame.from_dict(OrderedDict(items)) may be used to preserve the key order.\n",
      "  del sys.path[0]\n",
      "/Users/jacobsolawetz/anaconda2/envs/py36/lib/python3.6/site-packages/ipykernel_launcher.py:23: FutureWarning: from_items is deprecated. Please use DataFrame.from_dict(dict(items), ...) instead. DataFrame.from_dict(OrderedDict(items)) may be used to preserve the key order.\n",
      "/Users/jacobsolawetz/anaconda2/envs/py36/lib/python3.6/site-packages/ipykernel_launcher.py:34: FutureWarning: from_items is deprecated. Please use DataFrame.from_dict(dict(items), ...) instead. DataFrame.from_dict(OrderedDict(items)) may be used to preserve the key order.\n",
      "/Users/jacobsolawetz/anaconda2/envs/py36/lib/python3.6/site-packages/ipykernel_launcher.py:45: FutureWarning: from_items is deprecated. Please use DataFrame.from_dict(dict(items), ...) instead. DataFrame.from_dict(OrderedDict(items)) may be used to preserve the key order.\n",
      "/Users/jacobsolawetz/anaconda2/envs/py36/lib/python3.6/site-packages/ipykernel_launcher.py:59: FutureWarning: from_items is deprecated. Please use DataFrame.from_dict(dict(items), ...) instead. DataFrame.from_dict(OrderedDict(items)) may be used to preserve the key order.\n"
     ]
    }
   ],
   "source": [
    "p, r = get_pr('crf_model_conf.dat')\n",
    "df1 = pd.DataFrame.from_items([('r', list(r)), ('ls_oie_crf', list(p))])\n",
    "#df1['ls_oie_crf'] = np.NaN\n",
    "df1['ls_oie'] = np.NaN\n",
    "df1['rnnoie'] = np.NaN\n",
    "df1['srl_bert_ls'] = np.NaN\n",
    "df1['srl_bert_oie2016'] = np.NaN\n",
    "df1['t'] = np.NaN\n",
    "cols = ['r', 't', 'rnnoie', 'ls_oie', 'ls_oie_crf', 'srl_bert_oie2016', 'srl_bert_ls']\n",
    "df1 = df1[cols]\n",
    "\n",
    "p, r = get_pr('qdist_new_conf.dat')\n",
    "df2 = pd.DataFrame.from_items([('r', list(r)), ('ls_oie', list(p))])\n",
    "df2['ls_oie_crf'] = np.NaN\n",
    "#df2['ls_oie'] = np.NaN\n",
    "df2['rnnoie'] = np.NaN\n",
    "df2['srl_bert_ls'] = np.NaN\n",
    "df2['srl_bert_oie2016'] = np.NaN\n",
    "df2['t'] = np.NaN\n",
    "df2 = df2[cols]\n",
    "\n",
    "p, r = get_pr('rnnoie_new_conf.dat')\n",
    "df3 = pd.DataFrame.from_items([('r', list(r)), ('rnnoie', list(p))])\n",
    "df3['ls_oie_crf'] = np.NaN\n",
    "df3['ls_oie'] = np.NaN\n",
    "#df3['rnnoie'] = np.NaN\n",
    "df3['srl_bert_ls'] = np.NaN\n",
    "df3['srl_bert_oie2016'] = np.NaN\n",
    "df3['t'] = np.NaN\n",
    "\n",
    "df3 = df3[cols]\n",
    "\n",
    "p, r = get_pr('srl_bert_no_science_new_conf.dat')\n",
    "df4 = pd.DataFrame.from_items([('r', list(r)), ('srl_bert_ls', list(p))])\n",
    "df4['ls_oie_crf'] = np.NaN\n",
    "df4['ls_oie'] = np.NaN\n",
    "df4['rnnoie'] = np.NaN\n",
    "#df4['srl_bert_ls'] = np.NaN\n",
    "df4['srl_bert_oie2016'] = np.NaN\n",
    "df4['t'] = np.NaN\n",
    "\n",
    "df4 = df4[cols]\n",
    "\n",
    "p, r = get_pr('srl_bert_oie2016_new_conf.dat')\n",
    "df5 = pd.DataFrame.from_items([('r', list(r)), ('srl_bert_oie2016', list(p))])\n",
    "df5['ls_oie_crf'] = np.NaN\n",
    "df5['ls_oie'] = np.NaN\n",
    "df5['rnnoie'] = np.NaN\n",
    "df5['srl_bert_ls'] = np.NaN\n",
    "df5['t'] = np.NaN\n",
    "\n",
    "#df5['srl_bert_oie2016'] = np.NaN\n",
    "df5 = df5[cols]\n",
    "\n",
    "df = pd.read_csv('qdist_new_conf.dat.csv')\n",
    "p = list(df['Precision'])\n",
    "r = list(df['Recall'])\n",
    "t = list(df['Threshold'])\n",
    "df6 = pd.DataFrame.from_items([('r', r), ('t', t)])\n",
    "df6['ls_oie_crf'] = np.NaN\n",
    "df6['ls_oie'] = np.NaN\n",
    "df6['rnnoie'] = np.NaN\n",
    "df6['srl_bert_ls'] = np.NaN\n",
    "df6['srl_bert_oie2016'] = np.NaN\n",
    "#df5['t'] = np.NaN\n",
    "df6 = df6[cols]\n",
    "\n",
    "\n",
    "\n",
    "results = pd.concat([df1,df2,df3,df4,df5,df6]).sort_values(by = 'r')#.set_index('r')\n",
    "results['extractions'] = 1\n",
    "#results.loc[pd.isna(results['srl_bert_oie2016']), 'extractions'] = 0\n",
    "results['cum_extractions'] = results['extractions'].cumsum()\n",
    "results['cum_extractions_pct'] = results['cum_extractions']/len(results['cum_extractions'])"
   ]
  },
  {
   "cell_type": "code",
   "execution_count": 32,
   "metadata": {},
   "outputs": [
    {
     "data": {
      "text/plain": [
       "Text(0,0.5,'Precision')"
      ]
     },
     "execution_count": 32,
     "metadata": {},
     "output_type": "execute_result"
    },
    {
     "data": {
      "image/png": "[encoded data removed]",
      "text/plain": [
       "<Figure size 432x288 with 1 Axes>"
      ]
     },
     "metadata": {},
     "output_type": "display_data"
    }
   ],
   "source": [
    "ax =results[['rnnoie', 'ls_oie', 'ls_oie_crf', 'srl_bert_oie2016', 'srl_bert_ls']] .plot()\n",
    "ax.grid()\n",
    "ax.set_xlabel('Recall')\n",
    "ax.set_ylabel('Precision')"
   ]
  },
  {
   "cell_type": "code",
   "execution_count": 26,
   "metadata": {},
   "outputs": [
    {
     "data": {
      "image/png": "[encoded data removed]",
      "text/plain": [
       "<Figure size 576x576 with 2 Axes>"
      ]
     },
     "metadata": {},
     "output_type": "display_data"
    }
   ],
   "source": [
    "#import matplotlib\n",
    "#matplotlib.use(\"pgf\")\n",
    "matplotlib.rcParams.update({\n",
    "    \"pgf.texsystem\": \"pdflatex\",\n",
    "    'font.family': 'Times New Roman',\n",
    "    'text.usetex': False,\n",
    "    'pgf.rcfonts': False,\n",
    "})\n",
    "#import matplotlib.pyplot as plt\n",
    "\n",
    "\n",
    "\n",
    "\n",
    "x = results['r'].to_numpy()\n",
    "y1 = results['rnnoie'].to_numpy()\n",
    "y2 = results['ls_oie'].to_numpy()\n",
    "y3 = results['ls_oie_crf'].to_numpy()\n",
    "y4 = results['srl_bert_oie2016'].to_numpy()\n",
    "y5 = results['srl_bert_ls'].to_numpy()\n",
    "y6 = results['cum_extractions_pct'].to_numpy()\n",
    "y7 = results['t'].to_numpy()\n",
    "\n",
    "fig, axs = plt.subplots(2, 1, sharex=True, gridspec_kw={'height_ratios': [3, 1]}, figsize=(8, 8))\n",
    "fig.subplots_adjust(hspace=.2)\n",
    "\n",
    "axs[0].plot(x, y1, label = 'rnnoie')\n",
    "axs[0].plot(x, y2, label = 'ls_oie')\n",
    "axs[0].plot(x, y3, label = 'ls_oie_crf')\n",
    "axs[0].plot(x, y4, label = 'srl_bert_oie2016')\n",
    "axs[0].plot(x, y5, label = 'srl_bert_ls')\n",
    "for tk in axs[0].get_xticklabels():\n",
    "    tk.set_visible(True)\n",
    "\n",
    "#axs[0].grid()\n",
    "axs[0].legend(loc=\"upper right\", prop={'size': 20})\n",
    "leg = axs[0].legend()\n",
    "leg.set_title(\"Supervised OIE Systems\",prop={'size':14})\n",
    "axs[0].legend(loc=\"upper right\", prop={'size': 16})#.set_title(\"Supervised OIE Systems\",prop={'size':14})\n",
    "\n",
    "#for tick in axs[0].get_xticklabels():\n",
    "    #tick.set_visible(True)\n",
    "axs[0].xaxis.set_tick_params(labelbottom=True)\n",
    "axs[0].tick_params(axis='both', which='major', labelsize=14)\n",
    "\n",
    "axs[0].set_xlabel('recall', fontsize = 16)\n",
    "axs[0].set_ylabel('precision', fontsize = 16)\n",
    "axs[0].set_xlim(xmin=0)\n",
    "\n",
    "#axs[1].plot(x, y6)\n",
    "\n",
    "#for tick in axs[0].get_xticklabels():\n",
    "    #tick.set_visible(True)\n",
    "#axs[1].grid()\n",
    "#axs[1].set_ylabel('Fraction of Extractions')\n",
    "#axs[1].xaxis.set_tick_params(labelbottom=False)\n",
    "\n",
    "\n",
    "axs[1].plot(x, y7)\n",
    "\n",
    "#for tick in axs[0].get_xticklabels():\n",
    "    #tick.set_visible(True)\n",
    "#axs[1].grid()\n",
    "axs[1].set_ylabel('confidence', fontsize = 16)\n",
    "axs[1].tick_params(axis='both', which='major', labelsize=14)\n",
    "axs[1].xaxis.set_tick_params(labelbottom=False)\n",
    "axs[1].set_xlim(xmin=0)\n",
    "#plt.savefig('example.pgf')\n",
    "\n",
    "#plt.show()\n",
    "plt.savefig('example.png', bbox_inches='tight')\n"
   ]
  },
  {
   "cell_type": "code",
   "execution_count": 12,
   "metadata": {},
   "outputs": [
    {
     "name": "stdout",
     "output_type": "stream",
     "text": [
      "Collecting xelatex\n",
      "\u001b[31m  Could not find a version that satisfies the requirement xelatex (from versions: )\u001b[0m\n",
      "\u001b[31mNo matching distribution found for xelatex\u001b[0m\n",
      "\u001b[33mYou are using pip version 18.0, however version 19.3.1 is available.\n",
      "You should consider upgrading via the 'pip install --upgrade pip' command.\u001b[0m\n"
     ]
    }
   ],
   "source": [
    "!pip install xelatex"
   ]
  },
  {
   "cell_type": "code",
   "execution_count": 65,
   "metadata": {},
   "outputs": [
    {
     "data": {
      "text/plain": [
       "<Figure size 432x288 with 0 Axes>"
      ]
     },
     "metadata": {},
     "output_type": "display_data"
    },
    {
     "data": {
      "image/png": "[encoded data removed]",
      "text/plain": [
       "<Figure size 432x288 with 1 Axes>"
      ]
     },
     "metadata": {},
     "output_type": "display_data"
    }
   ],
   "source": [
    "fig=plt.figure()\n",
    "ax = results[['rnnoie', 'ls_oie', 'ls_oie_crf', 'srl_bert_oie2016', 'srl_bert_ls']].plot()\n",
    "ax.grid()\n",
    "ax.set_xlabel('Recall')\n",
    "ax.set_ylabel('Precision')\n",
    "ax2 = results['cum_extractions_pct'].plot(sharex = ax)"
   ]
  },
  {
   "cell_type": "code",
   "execution_count": 66,
   "metadata": {},
   "outputs": [
    {
     "ename": "AttributeError",
     "evalue": "'DataFrame' object has no attribute 'to_numpy'",
     "output_type": "error",
     "traceback": [
      "\u001b[0;31m---------------------------------------------------------------------------\u001b[0m",
      "\u001b[0;31mAttributeError\u001b[0m                            Traceback (most recent call last)",
      "\u001b[0;32m<ipython-input-66-64c4bfb506e6>\u001b[0m in \u001b[0;36m<module>\u001b[0;34m()\u001b[0m\n\u001b[0;32m----> 1\u001b[0;31m \u001b[0mresults\u001b[0m\u001b[0;34m[\u001b[0m\u001b[0;34m[\u001b[0m\u001b[0;34m'rnnoie'\u001b[0m\u001b[0;34m,\u001b[0m \u001b[0;34m'ls_oie'\u001b[0m\u001b[0;34m,\u001b[0m \u001b[0;34m'ls_oie_crf'\u001b[0m\u001b[0;34m,\u001b[0m \u001b[0;34m'srl_bert_oie2016'\u001b[0m\u001b[0;34m,\u001b[0m \u001b[0;34m'srl_bert_ls'\u001b[0m\u001b[0;34m]\u001b[0m\u001b[0;34m]\u001b[0m\u001b[0;34m.\u001b[0m\u001b[0mto_numpy\u001b[0m\u001b[0;34m(\u001b[0m\u001b[0;34m)\u001b[0m\u001b[0;34m\u001b[0m\u001b[0m\n\u001b[0m",
      "\u001b[0;32m~/anaconda2/envs/py36/lib/python3.6/site-packages/pandas/core/generic.py\u001b[0m in \u001b[0;36m__getattr__\u001b[0;34m(self, name)\u001b[0m\n\u001b[1;32m   3612\u001b[0m             \u001b[0;32mif\u001b[0m \u001b[0mname\u001b[0m \u001b[0;32min\u001b[0m \u001b[0mself\u001b[0m\u001b[0;34m.\u001b[0m\u001b[0m_info_axis\u001b[0m\u001b[0;34m:\u001b[0m\u001b[0;34m\u001b[0m\u001b[0m\n\u001b[1;32m   3613\u001b[0m                 \u001b[0;32mreturn\u001b[0m \u001b[0mself\u001b[0m\u001b[0;34m[\u001b[0m\u001b[0mname\u001b[0m\u001b[0;34m]\u001b[0m\u001b[0;34m\u001b[0m\u001b[0m\n\u001b[0;32m-> 3614\u001b[0;31m             \u001b[0;32mreturn\u001b[0m \u001b[0mobject\u001b[0m\u001b[0;34m.\u001b[0m\u001b[0m__getattribute__\u001b[0m\u001b[0;34m(\u001b[0m\u001b[0mself\u001b[0m\u001b[0;34m,\u001b[0m \u001b[0mname\u001b[0m\u001b[0;34m)\u001b[0m\u001b[0;34m\u001b[0m\u001b[0m\n\u001b[0m\u001b[1;32m   3615\u001b[0m \u001b[0;34m\u001b[0m\u001b[0m\n\u001b[1;32m   3616\u001b[0m     \u001b[0;32mdef\u001b[0m \u001b[0m__setattr__\u001b[0m\u001b[0;34m(\u001b[0m\u001b[0mself\u001b[0m\u001b[0;34m,\u001b[0m \u001b[0mname\u001b[0m\u001b[0;34m,\u001b[0m \u001b[0mvalue\u001b[0m\u001b[0;34m)\u001b[0m\u001b[0;34m:\u001b[0m\u001b[0;34m\u001b[0m\u001b[0m\n",
      "\u001b[0;31mAttributeError\u001b[0m: 'DataFrame' object has no attribute 'to_numpy'"
     ]
    }
   ],
   "source": [
    "results[['rnnoie', 'ls_oie', 'ls_oie_crf', 'srl_bert_oie2016', 'srl_bert_ls']].to_numpy()\n"
   ]
  },
  {
   "cell_type": "code",
   "execution_count": 80,
   "metadata": {},
   "outputs": [
    {
     "name": "stdout",
     "output_type": "stream",
     "text": [
      "Solving environment: / ^C\n",
      "failed\n",
      "\n",
      "CondaError: KeyboardInterrupt\n",
      "\n"
     ]
    }
   ],
   "source": []
  },
  {
   "cell_type": "code",
   "execution_count": 81,
   "metadata": {},
   "outputs": [
    {
     "data": {
      "text/plain": [
       "array([[0.        ,        nan,        nan,        nan,        nan],\n",
       "       [0.        ,        nan,        nan,        nan,        nan],\n",
       "       [0.        ,        nan,        nan,        nan,        nan],\n",
       "       ...,\n",
       "       [       nan,        nan,        nan,        nan, 0.23543152],\n",
       "       [       nan,        nan,        nan,        nan, 0.23586649],\n",
       "       [       nan,        nan,        nan,        nan, 0.23509202]])"
      ]
     },
     "execution_count": 81,
     "metadata": {},
     "output_type": "execute_result"
    }
   ],
   "source": [
    "results[['rnnoie', 'ls_oie', 'ls_oie_crf', 'srl_bert_oie2016', 'srl_bert_ls']].as_matrix()"
   ]
  },
  {
   "cell_type": "code",
   "execution_count": 17,
   "metadata": {},
   "outputs": [],
   "source": [
    "results.loc[pd.isna(results['srl_bert_oie2016']), 'extractions'] = 0"
   ]
  },
  {
   "cell_type": "code",
   "execution_count": 14,
   "metadata": {},
   "outputs": [
    {
     "data": {
      "text/plain": [
       "40047"
      ]
     },
     "execution_count": 14,
     "metadata": {},
     "output_type": "execute_result"
    }
   ],
   "source": [
    "len(results)"
   ]
  },
  {
   "cell_type": "code",
   "execution_count": 18,
   "metadata": {},
   "outputs": [
    {
     "data": {
      "text/plain": [
       "0       0\n",
       "2       0\n",
       "3       0\n",
       "0       0\n",
       "1       0\n",
       "1       0\n",
       "4       0\n",
       "1       0\n",
       "0       0\n",
       "0       0\n",
       "2       0\n",
       "1       0\n",
       "5       0\n",
       "6       0\n",
       "7       0\n",
       "8       0\n",
       "2       0\n",
       "3       0\n",
       "5       0\n",
       "2       0\n",
       "3       0\n",
       "12      0\n",
       "11      0\n",
       "10      0\n",
       "9       0\n",
       "4       0\n",
       "4       0\n",
       "15      0\n",
       "14      0\n",
       "13      0\n",
       "       ..\n",
       "8104    0\n",
       "8130    0\n",
       "8105    0\n",
       "8106    0\n",
       "8107    0\n",
       "8108    0\n",
       "8109    0\n",
       "8110    0\n",
       "8111    0\n",
       "8112    0\n",
       "8113    0\n",
       "8114    0\n",
       "8115    0\n",
       "8131    0\n",
       "8116    0\n",
       "8118    0\n",
       "8119    0\n",
       "8120    0\n",
       "8121    0\n",
       "8122    0\n",
       "8123    0\n",
       "8124    0\n",
       "8125    0\n",
       "8126    0\n",
       "8127    0\n",
       "8128    0\n",
       "8129    0\n",
       "8117    0\n",
       "8132    0\n",
       "8149    0\n",
       "Name: extractions, Length: 32263, dtype: int64"
      ]
     },
     "execution_count": 18,
     "metadata": {},
     "output_type": "execute_result"
    }
   ],
   "source": [
    "results[pd.isna(results['srl_bert_oie2016'])]['extractions']"
   ]
  },
  {
   "cell_type": "code",
   "execution_count": 76,
   "metadata": {},
   "outputs": [
    {
     "data": {
      "text/plain": [
       "array([3.39220580e-01, 3.39028604e-01, 3.39028604e-01, ...,\n",
       "       3.83950854e-04, 1.91975427e-04, 1.91975427e-04])"
      ]
     },
     "execution_count": 76,
     "metadata": {},
     "output_type": "execute_result"
    }
   ],
   "source": [
    "df['Recall'].values"
   ]
  },
  {
   "cell_type": "code",
   "execution_count": 13,
   "metadata": {},
   "outputs": [
    {
     "data": {
      "text/plain": [
       "'/Users/jacobsolawetz/anaconda2/envs/py36/lib/python3.6/site-packages/matplotlib/mpl-data/matplotlibrc'"
      ]
     },
     "execution_count": 13,
     "metadata": {},
     "output_type": "execute_result"
    }
   ],
   "source": [
    "matplotlib.matplotlib_fname()"
   ]
  },
  {
   "cell_type": "code",
   "execution_count": null,
   "metadata": {},
   "outputs": [],
   "source": []
  }
 ],
 "metadata": {
  "kernelspec": {
   "display_name": "Python 3",
   "language": "python",
   "name": "python3"
  },
  "language_info": {
   "codemirror_mode": {
    "name": "ipython",
    "version": 3
   },
   "file_extension": ".py",
   "mimetype": "text/x-python",
   "name": "python",
   "nbconvert_exporter": "python",
   "pygments_lexer": "ipython3",
   "version": "3.6.9"
  }
 },
 "nbformat": 4,
 "nbformat_minor": 2
}
